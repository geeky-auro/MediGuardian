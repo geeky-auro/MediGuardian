{
  "cells": [
    {
      "cell_type": "markdown",
      "metadata": {
        "id": "view-in-github",
        "colab_type": "text"
      },
      "source": [
        "<a href=\"https://colab.research.google.com/github/geeky-auro/miniature-system/blob/main/PII_Detector.ipynb\" target=\"_parent\"><img src=\"https://colab.research.google.com/assets/colab-badge.svg\" alt=\"Open In Colab\"/></a>"
      ]
    },
    {
      "cell_type": "code",
      "source": [
        "!pip install selenium"
      ],
      "metadata": {
        "id": "oYmRZ1NTHgV6"
      },
      "execution_count": null,
      "outputs": []
    },
    {
      "cell_type": "code",
      "source": [
        "!pip install Pillow"
      ],
      "metadata": {
        "id": "jnoijdnQHt1K"
      },
      "execution_count": null,
      "outputs": []
    },
    {
      "cell_type": "code",
      "source": [
        "!pip install pypdf2"
      ],
      "metadata": {
        "id": "tGr-jLlHIpQ4",
        "outputId": "7ecfa28e-f01b-4dd8-cfe9-29b2e3dddae7",
        "colab": {
          "base_uri": "https://localhost:8080/"
        }
      },
      "execution_count": null,
      "outputs": [
        {
          "output_type": "stream",
          "name": "stdout",
          "text": [
            "Requirement already satisfied: pypdf2 in /usr/local/lib/python3.10/dist-packages (3.0.1)\n"
          ]
        }
      ]
    },
    {
      "cell_type": "code",
      "source": [
        "!pip install requests"
      ],
      "metadata": {
        "id": "bnLzMlFNhgaX"
      },
      "execution_count": null,
      "outputs": []
    },
    {
      "cell_type": "code",
      "source": [
        "import PyPDF2\n",
        "from PyPDF2 import PdfReader, PdfWriter\n",
        "# Open the PDF file\n",
        "pdf_file = 'Medical_Report.pdf'\n",
        "pdf = PyPDF2.PdfReader(pdf_file)\n",
        "\n",
        "# Count the number of pages present\n",
        "num_pages = len(pdf.pages)\n",
        "print(f\"Number of pages in the PDF: {num_pages}\")\n",
        "\n",
        "# Extract text from the first three pages\n",
        "text = \"\"\n",
        "for i in range(min(3, num_pages)):  # Loop through the first three pages or less if there are fewer pages\n",
        "    page_text = pdf.pages[i].extract_text()\n",
        "    text += page_text\n",
        "\n",
        "print(text)\n",
        "writer = PdfWriter()\n",
        "writer.add_blank_page(210,297)\n",
        "page=pdf.pages[0]\n",
        "writer.add_page(page)"
      ],
      "metadata": {
        "id": "A3Xup23DH48K",
        "outputId": "54af04dd-ce93-41c2-b98d-a8d1e04a204c",
        "colab": {
          "base_uri": "https://localhost:8080/"
        }
      },
      "execution_count": null,
      "outputs": [
        {
          "output_type": "stream",
          "name": "stdout",
          "text": [
            "Number of pages in the PDF: 2\n",
            "29/12/2023\n",
            "Auro Saswat Raj\n",
            "Patient Information\n",
            "AURO RAJBirth Date\n",
            "5/6/2003\n",
            "8\n",
            "(97779) 80507Weight:\n",
            "90\n",
            "Kings Palace-5,Campus-12,Kiit,Patia, Campus-\n",
            "12,Kiit University\n",
            "Bhubaneswar, Select One, 751024Height:\n",
            "6.12\n",
            "In Case of Emergency\n",
            "Zatin Kumar Qr :D/5,XYZ Colony,Bangalore , Campus-12,Kiit\n",
            "University\n",
            "Bhubaneswar, Odisha, 751024\n",
            "IndiaHome phone\n",
            "(97779) 80507\n",
            "General Medical History\n",
            "Chick en P ox (Varicella):\n",
            "IMMUNEMeasles:\n",
            "NOT IMMUNE\n",
            "Have you had the Hepatitis B v accination?\n",
            "Yes\n",
            "List any Medical Pr oblems (asthma, seizur es, headaches):\n",
            "Asthma, Seizures, Headaches\n",
            "Create y our own aut omated PDFs with  Jotform  PDF E ditor- It’s free1Name of Insur ance Company:\n",
            "Campus-12, Kiit University\n",
            "Do y ou ha ve medical insur ance?\n",
            "No\n",
            "Medical Insurance Details\n",
            "List any aller gies:\n",
            "Skin Disease\n",
            "List any medication tak en regularly:\n",
            "Take Medicines Time to Time\n",
            "Create y our own aut omated PDFs with  Jotform  PDF E ditor- It’s free2\n"
          ]
        },
        {
          "output_type": "execute_result",
          "data": {
            "text/plain": [
              "{'/Type': '/Page',\n",
              " '/Resources': {'/ProcSet': ['/PDF', '/Text', '/ImageB', '/ImageC', '/ImageI'],\n",
              "  '/ExtGState': {'/G3': {'/ca': 1, '/BM': '/Normal'},\n",
              "   '/G5': {'/ca': 0.149, '/BM': '/Normal'}},\n",
              "  '/Font': {'/F4': {'/Type': '/Font',\n",
              "    '/Subtype': '/Type0',\n",
              "    '/BaseFont': '/AAAAAA+Roboto-Bold',\n",
              "    '/Encoding': '/Identity-H',\n",
              "    '/DescendantFonts': [IndirectObject(9, 0, 140063085046912)],\n",
              "    '/ToUnicode': {'/Filter': '/FlateDecode'}},\n",
              "   '/F6': {'/Type': '/Font',\n",
              "    '/Subtype': '/Type0',\n",
              "    '/BaseFont': '/BAAAAA+Roboto-Regular',\n",
              "    '/Encoding': '/Identity-H',\n",
              "    '/DescendantFonts': [IndirectObject(14, 0, 140063085046912)],\n",
              "    '/ToUnicode': {'/Filter': '/FlateDecode'}}}},\n",
              " '/MediaBox': [0, 0, 594.95996, 841.91998],\n",
              " '/Annots': [IndirectObject(18, 0, 140063085046912)],\n",
              " '/Contents': {'/Filter': '/FlateDecode'},\n",
              " '/Parent': {'/Type': '/Pages',\n",
              "  '/Count': 2,\n",
              "  '/Kids': [IndirectObject(4, 0, 140063085046912),\n",
              "   IndirectObject(5, 0, 140063085046912)]}}"
            ]
          },
          "metadata": {},
          "execution_count": 16
        }
      ]
    },
    {
      "cell_type": "code",
      "source": [
        "filename='new.pdf'\n",
        "with open(filename,'wb') as file:\n",
        "  writer.write(file)"
      ],
      "metadata": {
        "id": "M9lmQ1MkI4uh"
      },
      "execution_count": null,
      "outputs": []
    },
    {
      "cell_type": "code",
      "source": [
        "!pip install requests"
      ],
      "metadata": {
        "id": "5KHMtt-Nr_g6"
      },
      "execution_count": null,
      "outputs": []
    },
    {
      "cell_type": "code",
      "source": [
        "import os\n",
        "import requests # pip install requests\n",
        "\n",
        "# The authentication key (API Key).\n",
        "# Get your own by registering at https://app.pdf.co\n",
        "API_KEY = \"miitraj07@gmail.com_4n36Yt95ELsx6hrXr3nXZ59aiO1aD2nZhHjW4i5t2wbcW009YnS772svzTQ2kGHtC8ozI2y9DuEV9DqS003M6B71RHikA3d71GvgOv4g2KcK2WDQ5ps6KSmC6VL81Zf5kfLhA6Th495h20xj1XJ5BLDYfw\"\n",
        "\n",
        "# Base URL for PDF.co Web API requests\n",
        "BASE_URL = \"https://api.pdf.co/v1\"\n",
        "\n",
        "# Source PDF file\n",
        "SourceFile = \"Medical_Report.pdf\"\n",
        "# PDF document password. Leave empty for unprotected documents.\n",
        "Password = \"\"\n",
        "# Destination PDF file name\n",
        "DestinationFile = \"result.pdf\"\n",
        "\n",
        "\n",
        "def main(args = None):\n",
        "    uploadedFileUrl = uploadFile(SourceFile)\n",
        "    if (uploadedFileUrl != None):\n",
        "        replaceStringFromPdf(uploadedFileUrl, DestinationFile)\n",
        "\n",
        "\n",
        "def replaceStringFromPdf(uploadedFileUrl, destinationFile):\n",
        "    \"\"\"Replace Text FROM UPLOADED PDF FILE using PDF.co Web API\"\"\"\n",
        "\n",
        "    # Prepare requests params as JSON\n",
        "    # See documentation: https://apidocs.pdf.co\n",
        "    parameters = {}\n",
        "    parameters[\"name\"] = os.path.basename(destinationFile)\n",
        "    parameters[\"password\"] = Password\n",
        "    parameters[\"url\"] = uploadedFileUrl\n",
        "    parameters[\"searchString\"] = \"AURO\"\n",
        "    parameters[\"replaceString\"] = \"Samuel\"\n",
        "\n",
        "    # Prepare URL for 'Replace Text from PDF' API request\n",
        "    url = \"{}/pdf/edit/replace-text\".format(BASE_URL)\n",
        "\n",
        "    # Execute request and get response as JSON\n",
        "    response = requests.post(url, data=parameters, headers={ \"x-api-key\": API_KEY })\n",
        "    if (response.status_code == 200):\n",
        "        json = response.json()\n",
        "\n",
        "        if json[\"error\"] == False:\n",
        "            #  Get URL of result file\n",
        "            resultFileUrl = json[\"url\"]\n",
        "            # Download result file\n",
        "            r = requests.get(resultFileUrl, stream=True)\n",
        "            if (r.status_code == 200):\n",
        "                with open(destinationFile, 'wb') as file:\n",
        "                    for chunk in r:\n",
        "                        file.write(chunk)\n",
        "                print(f\"Result file saved as \\\"{destinationFile}\\\" file.\")\n",
        "            else:\n",
        "                print(f\"Request error: {response.status_code} {response.reason}\")\n",
        "        else:\n",
        "            # Show service reported error\n",
        "            print(json[\"message\"])\n",
        "    else:\n",
        "        print(f\"Request error: {response.status_code} {response.reason}\")\n",
        "\n",
        "\n",
        "def uploadFile(fileName):\n",
        "    \"\"\"Uploads file to the cloud\"\"\"\n",
        "\n",
        "    # 1. RETRIEVE PRESIGNED URL TO UPLOAD FILE.\n",
        "\n",
        "    # Prepare URL for 'Get Presigned URL' API request\n",
        "    url = \"{}/file/upload/get-presigned-url?contenttype=application/octet-stream&name={}\".format(\n",
        "        BASE_URL, os.path.basename(fileName))\n",
        "\n",
        "    # Execute request and get response as JSON\n",
        "    response = requests.get(url, headers={ \"x-api-key\": API_KEY })\n",
        "    if (response.status_code == 200):\n",
        "        json = response.json()\n",
        "\n",
        "        if json[\"error\"] == False:\n",
        "            # URL to use for file upload\n",
        "            uploadUrl = json[\"presignedUrl\"]\n",
        "            # URL for future reference\n",
        "            uploadedFileUrl = json[\"url\"]\n",
        "\n",
        "            # 2. UPLOAD FILE TO CLOUD.\n",
        "            with open(fileName, 'rb') as file:\n",
        "                requests.put(uploadUrl, data=file, headers={ \"x-api-key\": API_KEY, \"content-type\": \"application/octet-stream\" })\n",
        "\n",
        "            return uploadedFileUrl\n",
        "        else:\n",
        "            # Show service reported error\n",
        "            print(json[\"message\"])\n",
        "    else:\n",
        "        print(f\"Request error: {response.status_code} {response.reason}\")\n",
        "\n",
        "    return None\n",
        "\n",
        "\n",
        "if __name__ == '__main__':\n",
        "    main()\n",
        "\n"
      ],
      "metadata": {
        "id": "mWNvSY1Dr1d7",
        "outputId": "0906b5b4-50a6-416d-d5a5-49ebc7fc2d07",
        "colab": {
          "base_uri": "https://localhost:8080/"
        }
      },
      "execution_count": null,
      "outputs": [
        {
          "output_type": "stream",
          "name": "stdout",
          "text": [
            "Result file saved as \"result.pdf\" file.\n"
          ]
        }
      ]
    },
    {
      "cell_type": "code",
      "source": [],
      "metadata": {
        "id": "QMLZugqnr7gL"
      },
      "execution_count": null,
      "outputs": []
    }
  ],
  "metadata": {
    "colab": {
      "provenance": [],
      "include_colab_link": true
    },
    "kernelspec": {
      "display_name": "Python 3",
      "name": "python3"
    }
  },
  "nbformat": 4,
  "nbformat_minor": 0
}